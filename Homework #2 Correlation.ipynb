{
 "cells": [
  {
   "cell_type": "markdown",
   "metadata": {},
   "source": [
    "# DATA MINING\n",
    "1.1 Data Cleaning"
   ]
  },
  {
   "cell_type": "code",
   "execution_count": 1,
   "metadata": {},
   "outputs": [],
   "source": [
    "import pandas as pd \n",
    "import seaborn as sns \n",
    "import numpy as np \n",
    "import matplotlib.pyplot as plt  \n",
    "\n",
    "%matplotlib  inline"
   ]
  },
  {
   "cell_type": "code",
   "execution_count": 2,
   "metadata": {},
   "outputs": [],
   "source": [
    "df = pd.read_csv(\"single_family_home_values.csv\") "
   ]
  },
  {
   "cell_type": "code",
   "execution_count": 3,
   "metadata": {},
   "outputs": [],
   "source": [
    "df['lastSaleDate']=pd.to_datetime(df.lastSaleDate)"
   ]
  },
  {
   "cell_type": "code",
   "execution_count": 4,
   "metadata": {},
   "outputs": [],
   "source": [
    "df['priorSaleDate']=pd.to_datetime(df.priorSaleDate)"
   ]
  },
  {
   "cell_type": "code",
   "execution_count": 5,
   "metadata": {},
   "outputs": [
    {
     "name": "stdout",
     "output_type": "stream",
     "text": [
      "<class 'pandas.core.frame.DataFrame'>\n",
      "RangeIndex: 15000 entries, 0 to 14999\n",
      "Data columns (total 18 columns):\n",
      "id                 15000 non-null int64\n",
      "address            15000 non-null object\n",
      "city               15000 non-null object\n",
      "state              15000 non-null object\n",
      "zipcode            15000 non-null int64\n",
      "latitude           14985 non-null float64\n",
      "longitude          14985 non-null float64\n",
      "bedrooms           15000 non-null int64\n",
      "bathrooms          15000 non-null float64\n",
      "rooms              15000 non-null int64\n",
      "squareFootage      15000 non-null int64\n",
      "lotSize            15000 non-null int64\n",
      "yearBuilt          14999 non-null float64\n",
      "lastSaleDate       15000 non-null datetime64[ns]\n",
      "lastSaleAmount     15000 non-null int64\n",
      "priorSaleDate      11173 non-null datetime64[ns]\n",
      "priorSaleAmount    11287 non-null float64\n",
      "estimated_value    15000 non-null int64\n",
      "dtypes: datetime64[ns](2), float64(5), int64(8), object(3)\n",
      "memory usage: 2.1+ MB\n"
     ]
    }
   ],
   "source": [
    "df.info()"
   ]
  },
  {
   "cell_type": "markdown",
   "metadata": {},
   "source": [
    "1.2 Correlation"
   ]
  },
  {
   "cell_type": "code",
   "execution_count": 6,
   "metadata": {},
   "outputs": [
    {
     "data": {
      "text/html": [
       "<div>\n",
       "<style scoped>\n",
       "    .dataframe tbody tr th:only-of-type {\n",
       "        vertical-align: middle;\n",
       "    }\n",
       "\n",
       "    .dataframe tbody tr th {\n",
       "        vertical-align: top;\n",
       "    }\n",
       "\n",
       "    .dataframe thead th {\n",
       "        text-align: right;\n",
       "    }\n",
       "</style>\n",
       "<table border=\"1\" class=\"dataframe\">\n",
       "  <thead>\n",
       "    <tr style=\"text-align: right;\">\n",
       "      <th></th>\n",
       "      <th>id</th>\n",
       "      <th>zipcode</th>\n",
       "      <th>latitude</th>\n",
       "      <th>longitude</th>\n",
       "      <th>bedrooms</th>\n",
       "      <th>bathrooms</th>\n",
       "      <th>rooms</th>\n",
       "      <th>squareFootage</th>\n",
       "      <th>lotSize</th>\n",
       "      <th>yearBuilt</th>\n",
       "      <th>lastSaleAmount</th>\n",
       "      <th>priorSaleAmount</th>\n",
       "      <th>estimated_value</th>\n",
       "    </tr>\n",
       "  </thead>\n",
       "  <tbody>\n",
       "    <tr>\n",
       "      <td>id</td>\n",
       "      <td>1.000000</td>\n",
       "      <td>-0.007972</td>\n",
       "      <td>-0.092638</td>\n",
       "      <td>0.039591</td>\n",
       "      <td>0.076366</td>\n",
       "      <td>0.128491</td>\n",
       "      <td>0.094063</td>\n",
       "      <td>0.143069</td>\n",
       "      <td>0.045336</td>\n",
       "      <td>0.041342</td>\n",
       "      <td>0.069275</td>\n",
       "      <td>0.012363</td>\n",
       "      <td>0.126193</td>\n",
       "    </tr>\n",
       "    <tr>\n",
       "      <td>zipcode</td>\n",
       "      <td>-0.007972</td>\n",
       "      <td>1.000000</td>\n",
       "      <td>0.461953</td>\n",
       "      <td>0.394500</td>\n",
       "      <td>-0.018420</td>\n",
       "      <td>-0.007543</td>\n",
       "      <td>0.031346</td>\n",
       "      <td>0.000812</td>\n",
       "      <td>-0.037696</td>\n",
       "      <td>-0.174142</td>\n",
       "      <td>0.032898</td>\n",
       "      <td>0.033123</td>\n",
       "      <td>0.089104</td>\n",
       "    </tr>\n",
       "  </tbody>\n",
       "</table>\n",
       "</div>"
      ],
      "text/plain": [
       "               id   zipcode  latitude  longitude  bedrooms  bathrooms  \\\n",
       "id       1.000000 -0.007972 -0.092638   0.039591  0.076366   0.128491   \n",
       "zipcode -0.007972  1.000000  0.461953   0.394500 -0.018420  -0.007543   \n",
       "\n",
       "            rooms  squareFootage   lotSize  yearBuilt  lastSaleAmount  \\\n",
       "id       0.094063       0.143069  0.045336   0.041342        0.069275   \n",
       "zipcode  0.031346       0.000812 -0.037696  -0.174142        0.032898   \n",
       "\n",
       "         priorSaleAmount  estimated_value  \n",
       "id              0.012363         0.126193  \n",
       "zipcode         0.033123         0.089104  "
      ]
     },
     "execution_count": 6,
     "metadata": {},
     "output_type": "execute_result"
    }
   ],
   "source": [
    "df2 = df.corr()\n",
    "df2.head(2)"
   ]
  },
  {
   "cell_type": "code",
   "execution_count": 7,
   "metadata": {},
   "outputs": [
    {
     "data": {
      "text/plain": [
       "<matplotlib.axes._subplots.AxesSubplot at 0x15d2a0be688>"
      ]
     },
     "execution_count": 7,
     "metadata": {},
     "output_type": "execute_result"
    },
    {
     "data": {
      "image/png": "[encoded data removed]",
      "text/plain": [
       "<Figure size 432x288 with 2 Axes>"
      ]
     },
     "metadata": {
      "needs_background": "light"
     },
     "output_type": "display_data"
    }
   ],
   "source": [
    "#This illustrates the correlation of each features.\n",
    "#The lighter the color, the better the correlation.\n",
    "#e.g.\"bathrooms\" and \"squareFootage\" features have a good correlation with \"estimated_value\"\n",
    "sns.heatmap(df2)"
   ]
  },
  {
   "cell_type": "code",
   "execution_count": 12,
   "metadata": {},
   "outputs": [
    {
     "data": {
      "text/plain": [
       "<seaborn.axisgrid.PairGrid at 0x15d2ad158c8>"
      ]
     },
     "execution_count": 12,
     "metadata": {},
     "output_type": "execute_result"
    },
    {
     "data": {
      "image/png": "[encoded data removed]",
      "text/plain": [
       "<Figure size 360x360 with 6 Axes>"
      ]
     },
     "metadata": {
      "needs_background": "light"
     },
     "output_type": "display_data"
    }
   ],
   "source": [
    "#This is another way of illustrating correlation of two features\n",
    "sns.pairplot(df2[['squareFootage','estimated_value']])"
   ]
  },
  {
   "cell_type": "code",
   "execution_count": null,
   "metadata": {},
   "outputs": [],
   "source": []
  }
 ],
 "metadata": {
  "kernelspec": {
   "display_name": "Python 3",
   "language": "python",
   "name": "python3"
  },
  "language_info": {
   "codemirror_mode": {
    "name": "ipython",
    "version": 3
   },
   "file_extension": ".py",
   "mimetype": "text/x-python",
   "name": "python",
   "nbconvert_exporter": "python",
   "pygments_lexer": "ipython3",
   "version": "3.7.4"
  }
 },
 "nbformat": 4,
 "nbformat_minor": 2
}
